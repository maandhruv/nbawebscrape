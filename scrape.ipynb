{
 "cells": [
  {
   "cell_type": "code",
   "execution_count": 2,
   "metadata": {},
   "outputs": [],
   "source": [
    "import pandas as pd\n",
    "import requests\n",
    "pd.set_option('display.max_columns', None) # so we can see all columns in a wide DataFrame\n",
    "import time\n",
    "import numpy as np"
   ]
  },
  {
   "cell_type": "code",
   "execution_count": 3,
   "metadata": {},
   "outputs": [],
   "source": [
    "raw_api_url = 'https://stats.nba.com/stats/leagueLeaders?LeagueID=00&PerMode=Totals&Scope=S&Season=2011-12&SeasonType=Regular%20Season&StatCategory=PTS'"
   ]
  },
  {
   "cell_type": "code",
   "execution_count": 4,
   "metadata": {},
   "outputs": [],
   "source": [
    "headers = {\n",
    "    'Accept': '*/*',\n",
    "    'Accept-Encoding': 'gzip, deflate, br',\n",
    "    'Accept-Language': 'en-US,en;q=0.9,es;q=0.8',\n",
    "    'Connection': 'keep-alive',\n",
    "    'Host': 'stats.nba.com',\n",
    "    'If-Modified-Since': 'Thu, 20 Oct 2022 08:06:46 GMT',\n",
    "    'Origin': 'https://www.nba.com',\n",
    "    'Referer': 'https://www.nba.com/',\n",
    "    'sec-ch-ua': '\"Chromium\";v=\"106\", \"Google Chrome\";v=\"106\", \"Not;A=Brand\";v=\"99\"',\n",
    "    'sec-ch-ua-mobile': '?0',\n",
    "    'sec-ch-ua-platform': \"Windows\",\n",
    "    'Sec-Fetch-Dest': 'empty',\n",
    "    'Sec-Fetch-Mode': 'cors',\n",
    "    'Sec-Fetch-Site': 'same-site',\n",
    "    'User-Agent': 'Mozilla/5.0 (Windows NT 10.0; Win64; x64) AppleWebKit/537.36 (KHTML, like Gecko) Chrome/106.0.0.0 Safari/537.36'\n",
    "}"
   ]
  },
  {
   "cell_type": "code",
   "execution_count": 8,
   "metadata": {},
   "outputs": [],
   "source": [
    "r = requests.get(url=raw_api_url, headers=headers).json()"
   ]
  },
  {
   "cell_type": "code",
   "execution_count": 9,
   "metadata": {},
   "outputs": [],
   "source": [
    "df_cols_short = r['resultSet']['headers']"
   ]
  },
  {
   "cell_type": "code",
   "execution_count": 11,
   "metadata": {},
   "outputs": [
    {
     "name": "stderr",
     "output_type": "stream",
     "text": [
      "/var/folders/rf/dtzvp3fj137cpdj3m4jwdfkc0000gn/T/ipykernel_28269/3041449043.py:18: FutureWarning: The behavior of DataFrame concatenation with empty or all-NA entries is deprecated. In a future version, this will no longer exclude empty or all-NA columns when determining the result dtypes. To retain the old behavior, exclude the relevant entries before the concat operation.\n",
      "  df = pd.concat([df, temp_df3], axis=0)\n"
     ]
    },
    {
     "name": "stdout",
     "output_type": "stream",
     "text": [
      "Finished scraping data from the 2012-13 Regular%20Season\n",
      "...waiting 26.2 seconds...\n",
      "Finished scraping data from the 2012-13 Playoffs\n",
      "...waiting 28.7 seconds...\n",
      "Finished scraping data from the 2013-14 Regular%20Season\n",
      "...waiting 31.7 seconds...\n",
      "Finished scraping data from the 2013-14 Playoffs\n",
      "...waiting 32.7 seconds...\n",
      "Finished scraping data from the 2014-15 Regular%20Season\n",
      "...waiting 26.4 seconds...\n",
      "Finished scraping data from the 2014-15 Playoffs\n",
      "...waiting 34.9 seconds...\n",
      "Finished scraping data from the 2015-16 Regular%20Season\n",
      "...waiting 32.8 seconds...\n",
      "Finished scraping data from the 2015-16 Playoffs\n",
      "...waiting 31.6 seconds...\n",
      "Finished scraping data from the 2016-17 Regular%20Season\n",
      "...waiting 35.8 seconds...\n",
      "Finished scraping data from the 2016-17 Playoffs\n",
      "...waiting 36.1 seconds...\n",
      "Finished scraping data from the 2017-18 Regular%20Season\n",
      "...waiting 31.2 seconds...\n",
      "Finished scraping data from the 2017-18 Playoffs\n",
      "...waiting 26.0 seconds...\n",
      "Finished scraping data from the 2018-19 Regular%20Season\n",
      "...waiting 23.2 seconds...\n",
      "Finished scraping data from the 2018-19 Playoffs\n",
      "...waiting 32.8 seconds...\n",
      "Finished scraping data from the 2019-20 Regular%20Season\n",
      "...waiting 25.7 seconds...\n",
      "Finished scraping data from the 2019-20 Playoffs\n",
      "...waiting 37.3 seconds...\n",
      "Finished scraping data from the 2020-21 Regular%20Season\n",
      "...waiting 28.6 seconds...\n",
      "Finished scraping data from the 2020-21 Playoffs\n",
      "...waiting 20.7 seconds...\n",
      "Finished scraping data from the 2021-22 Regular%20Season\n",
      "...waiting 26.6 seconds...\n",
      "Finished scraping data from the 2021-22 Playoffs\n",
      "...waiting 38.8 seconds...\n"
     ]
    }
   ],
   "source": [
    "df_cols = ['Year','Season_type'] + df_cols_short\n",
    "\n",
    "years = ['2012-13','2013-14','2014-15','2015-16','2016-17','2017-18','2018-19','2019-20','2020-21','2021-22']\n",
    "season_types = ['Regular%20Season','Playoffs']\n",
    "\n",
    "df = pd.DataFrame(columns=df_cols)\n",
    "\n",
    "begin_loop = time.time()\n",
    "\n",
    "for y in years:\n",
    "    for s in season_types:\n",
    "        api_url = 'https://stats.nba.com/stats/leagueLeaders?LeagueID=00&PerMode=Totals&Scope=S&Season='+y+'&SeasonType='+s+'&StatCategory=PTS'\n",
    "        r = requests.get(url=api_url, headers=headers).json()\n",
    "        temp_df1 = pd.DataFrame(r['resultSet']['rowSet'], columns=df_cols_short)\n",
    "        temp_df2 = pd.DataFrame({'Year':[y for i in range(len(temp_df1))],\n",
    "                                 'Season_type':[s for i in range(len(temp_df1))]})\n",
    "        temp_df3 = pd.concat([temp_df2, temp_df1], axis=1)\n",
    "        df = pd.concat([df, temp_df3], axis=0)\n",
    "        print(f'Finished scraping data from the {y} {s}')\n",
    "        lag = np.random.uniform(low=20, high=40)\n",
    "        print(f'...waiting {round(lag,1)} seconds...')\n",
    "        time.sleep(lag)\n"
   ]
  },
  {
   "cell_type": "code",
   "execution_count": 15,
   "metadata": {},
   "outputs": [],
   "source": [
    "df.to_csv('final_data.csv', index=False)"
   ]
  }
 ],
 "metadata": {
  "kernelspec": {
   "display_name": "Python 3.9.13 ('.venv': venv)",
   "language": "python",
   "name": "python3"
  },
  "language_info": {
   "codemirror_mode": {
    "name": "ipython",
    "version": 3
   },
   "file_extension": ".py",
   "mimetype": "text/x-python",
   "name": "python",
   "nbconvert_exporter": "python",
   "pygments_lexer": "ipython3",
   "version": "3.9.13"
  },
  "orig_nbformat": 4,
  "vscode": {
   "interpreter": {
    "hash": "e6d61cdda1021731e852e117095fabb0d23b83765c1ef09c432267f8d20cf717"
   }
  }
 },
 "nbformat": 4,
 "nbformat_minor": 2
}
